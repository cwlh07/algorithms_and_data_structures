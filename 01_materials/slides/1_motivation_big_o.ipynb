{
  "cells": [
    {
      "cell_type": "markdown",
      "id": "9ec1036b-804c-4610-9821-2ee711c1f24b",
      "metadata": {},
      "source": [
        "# Motivation and Big-O\n",
        "\n",
        "## Outline\n",
        "\n",
        "-   Motivation\n",
        "\n",
        "-   Time Complexity: Introduction to Big-O Notation\n",
        "\n",
        "-   Average, Best, and Worst Case\n",
        "\n",
        "-   Space Complexity\n",
        "\n",
        "## About Me\n",
        "\n",
        "-   PhD candidate in the Department of Computer Science at UofT\n",
        "\n",
        "-   Thesis is on remote patient monitoring using wearables and mobile\n",
        "    devices\n",
        "\n",
        "-   Did BSc from Vancouver (SFU) and MSc from UofT\n",
        "\n",
        "-   Co-Founder of a remote patient monitoring startup (Tabiat)\n",
        "\n",
        "## Why should a Data Scientist take this Course?\n",
        "\n",
        "-   Problem solving. This course provides you with a framework to solve\n",
        "    coding problems you may encounter in your career.\n",
        "\n",
        "-   Efficient programs. We want to write programs that scale well with\n",
        "    big data.\n",
        "\n",
        "-   Interview preparation. Many data science jobs require a technical\n",
        "    interview, which involes solving algorithms problems.\n",
        "\n",
        "## Learning Objectives\n",
        "\n",
        "-   Assess options and choices around methods to solve problems and data\n",
        "    representation methods using Big-O notation.\n",
        "\n",
        "-   Develop comfort with recursive functions.\n",
        "\n",
        "-   Decide on appropriate methods to represent data for a problem.\n",
        "\n",
        "-   Take a client-led problem and translate it into an optimization\n",
        "    problem.\n",
        "\n",
        "-   Identify why code is running slowly and know how to improve its\n",
        "    performance.\n",
        "\n",
        "# Motivating Code Demos\n",
        "\n",
        "## What are Algorithms and Data Structures\n",
        "\n",
        "-   An **algorithm** is a procedure to solve a problem\n",
        "\n",
        "    -   Sort a data observations from smallest to largest\n",
        "\n",
        "    -   Find the nearest neighbor to a data point\n",
        "\n",
        "    -   How fast is each algorithm?\n",
        "\n",
        "-   A **data structure** is a concrete method to store some data.\n",
        "\n",
        "    -   A pandas data set is a good way to store observations with many\n",
        "        features.\n",
        "\n",
        "    -   How much space does the data sturcture need? How long does it\n",
        "        take to access each observation?"
      ]
    },
    {
      "cell_type": "code",
      "execution_count": 3,
      "id": "491f7dba",
      "metadata": {},
      "outputs": [],
      "source": [
        "import numpy as np\n",
        "import timeit\n",
        "import random"
      ]
    },
    {
      "cell_type": "markdown",
      "id": "8b877adb-0aec-4d11-ae70-1dc037c7835b",
      "metadata": {},
      "source": [
        "## Loop Versus Vectorized Operations"
      ]
    },
    {
      "cell_type": "code",
      "execution_count": 4,
      "id": "14abe057",
      "metadata": {},
      "outputs": [],
      "source": [
        "size = 10**4\n",
        "\n",
        "# Using Python lists\n",
        "list_a = list(range(size))\n",
        "list_b = list(range(size))\n",
        "\n",
        "# Using NumPy arrays\n",
        "array_a = np.arange(size)\n",
        "array_b = np.arange(size)\n",
        "\n",
        "# Timing for list addition\n",
        "list_time = timeit.timeit(lambda: \n",
        "  [a + b for a, b in zip(list_a, list_b)], number=1)\n",
        "\n",
        "# Timing for vectorized array addition\n",
        "array_time = timeit.timeit(lambda: \n",
        "  array_a + array_b, number = 1)"
      ]
    },
    {
      "cell_type": "markdown",
      "id": "ec6ce099-d7f9-4372-8679-e529c4805094",
      "metadata": {},
      "source": [
        "## Loop Versus Vectorized Operations\n",
        "\n",
        "We will learn about what vectorized is in lecture 6."
      ]
    },
    {
      "cell_type": "code",
      "execution_count": 5,
      "id": "8dd27b22",
      "metadata": {},
      "outputs": [
        {
          "name": "stdout",
          "output_type": "stream",
          "text": [
            "List Addition: 0.000559 seconds\n",
            "Vectorized Addition: 0.000306 seconds\n"
          ]
        }
      ],
      "source": [
        "print(f\"List Addition: {list_time:.6f} seconds\")\n",
        "print(f\"Vectorized Addition: {array_time:.6f} seconds\")"
      ]
    },
    {
      "cell_type": "markdown",
      "id": "26a88ebc-1729-48ad-b291-b5f67ecaa0a7",
      "metadata": {},
      "source": [
        "-   Why was the NumPy vectorized operation much faster?\n",
        "\n",
        "-   How can we describe how much faster the vectorized operation is?\n",
        "\n",
        "-   This is useful in many iterative algorithms, such as gradient\n",
        "    descent.\n",
        "\n",
        "## Search in List Versus Set\n",
        "\n",
        "We will learn about searching and sorting in lecture 2."
      ]
    },
    {
      "cell_type": "code",
      "execution_count": 4,
      "id": "9ed3bd97",
      "metadata": {},
      "outputs": [],
      "source": [
        "# Python list\n",
        "list_time = timeit.timeit(lambda:\n",
        "  -1 in list_a, number = 1)\n",
        "  \n",
        "# Python set\n",
        "set_a = set(range(size))\n",
        "set_time = timeit.timeit(lambda:\n",
        "  -1 in set_a, number = 1)"
      ]
    },
    {
      "cell_type": "markdown",
      "id": "898e5f19-0327-4324-b60e-f3d4268bece9",
      "metadata": {},
      "source": [
        "## Search in List Versus Set"
      ]
    },
    {
      "cell_type": "code",
      "execution_count": 5,
      "id": "794ec0d0",
      "metadata": {},
      "outputs": [
        {
          "name": "stdout",
          "output_type": "stream",
          "text": [
            "List Search: 0.000064 seconds\n",
            "Set Search: 0.000001 seconds"
          ]
        }
      ],
      "source": [
        "print(f\"List Search: {list_time:.6f} seconds\")\n",
        "print(f\"Set Search: {set_time:.6f} seconds\")"
      ]
    },
    {
      "cell_type": "markdown",
      "id": "e736b913-8733-40f0-8730-43776a61f968",
      "metadata": {},
      "source": [
        "-   Why was the set search much faster?\n",
        "\n",
        "-   How can we describe how much faster the vectorized operation is?\n",
        "\n",
        "-   What are the pros and cons of choosing each data structure?\n",
        "\n",
        "## Selection Sort Versus Python Sort\n",
        "\n",
        "For context, selection sort is a naive sorting algorithm, while Python\n",
        "implements Tim Sort for the default search function."
      ]
    },
    {
      "cell_type": "code",
      "execution_count": 6,
      "id": "34a12fdb",
      "metadata": {},
      "outputs": [],
      "source": [
        "def selection_sort(arr):\n",
        "  n = len(arr)\n",
        "  \n",
        "  for i in range(n):\n",
        "    min_index = i\n",
        "    for j in range(i+1, n):\n",
        "      if arr[j] < arr[min_index]:\n",
        "        min_index = j\n",
        "        \n",
        "    arr[i], arr[min_index] = arr[min_index], arr[i]"
      ]
    },
    {
      "cell_type": "markdown",
      "id": "0db17fb4-e029-4b81-b8f0-ce7410f0ed60",
      "metadata": {},
      "source": [
        "## Selection Sort Versus Python Sort"
      ]
    },
    {
      "cell_type": "code",
      "execution_count": 7,
      "id": "58580f39",
      "metadata": {},
      "outputs": [],
      "source": [
        "random.shuffle(list_a)\n",
        "rand_list = list_a.copy()\n",
        "\n",
        "sel_time = timeit.timeit(lambda:\n",
        "  selection_sort(rand_list.copy()), number = 1)\n",
        "  \n",
        "py_time = timeit.timeit(lambda:\n",
        "  sorted(rand_list.copy()), number = 1)"
      ]
    },
    {
      "cell_type": "markdown",
      "id": "8329b6a7-a90d-4e7e-a52a-48d3b3d3dd01",
      "metadata": {},
      "source": [
        "## Selection Sort Versus Python Sort"
      ]
    },
    {
      "cell_type": "code",
      "execution_count": 8,
      "id": "4c103fff",
      "metadata": {},
      "outputs": [
        {
          "name": "stdout",
          "output_type": "stream",
          "text": [
            "Selection sort: 1.421455 seconds\n",
            "Tim sort: 0.001110 seconds"
          ]
        }
      ],
      "source": [
        "print(f\"Selection sort: {sel_time:.6f} seconds\")\n",
        "print(f\"Tim sort: {py_time:.6f} seconds\")"
      ]
    },
    {
      "attachments": {
        "images/big_o_viz.jpg": {
          "image/jpeg": "[encoded data removed]"
        }
      },
      "cell_type": "markdown",
      "id": "1acc6c51-47f6-49d9-ba4f-79fdc1e069da",
      "metadata": {},
      "source": [
        "-   Why was selection sort much slower than Tim sort (not in detail)?\n",
        "\n",
        "-   If we double the size of the list, how much slower will the code be\n",
        "    in each case?\n",
        "\n",
        "# Time Complexity: Introduction to Big-O Notation\n",
        "\n",
        "## An example\n",
        "\n",
        "-   Imagine you are writing an algorithm to search for a landing\n",
        "    position for a rocket. You want it to be simple (to avoid bugs) and\n",
        "    fast (since you only have 10 seconds to find a site). [1]\n",
        "\n",
        "-   It takes 1 millisecond to check each element. You decide to test a\n",
        "    simple search and binary search on 100 elements (more on these\n",
        "    methods later).\n",
        "\n",
        "    -   Simple search takes 100ms. Binary search takes 7ms.\n",
        "\n",
        "-   Then you test binary search with 1 billion elements and it takes\n",
        "    32ms.\n",
        "\n",
        "    -   Binary search is about 15 times faster than simple search,\n",
        "        because simple search took 100 ms with 100 elements, and binary\n",
        "        search took 7 ms. So simple search will take 30 × 15 = 450ms\n",
        "        with 1 billion elements.\n",
        "\n",
        "-   Since that is within your threshold, you decide to go with simple\n",
        "    search. **Is this correct?**\n",
        "\n",
        "## A practical example\n",
        "\n",
        "-   Definitely wrong!!\n",
        "-   The run time of different algorithms can grow at different rates.\n",
        "-   Big-O tells us how run time increases as the list size increases.\n",
        "\n",
        "### Comparing run times of simple and binary search\n",
        "\n",
        "| Elements      | Simple Search | Binary Search |\n",
        "|---------------|---------------|---------------|\n",
        "| 100           | 100 ms        | 7 ms          |\n",
        "| 10,000        | 10 s          | 14 ms         |\n",
        "| 1,000,000,000 | 11 days       | 32 ms         |\n",
        "\n",
        "## Big-O Notation\n",
        "\n",
        "-   Big-O tells you how fast an algorithm is in terms of the number of\n",
        "    operations, $n$.\n",
        "\n",
        "-   Simple search needs to take each element, so it will take $n$\n",
        "    operations. The run time in Big-O notation is $O(n)$.\n",
        "\n",
        "-   Binary search needs log $n$ operations, so the run time in Big-O\n",
        "    notation is $O(\\text{log}n)$\n",
        "\n",
        "    -   Note: log in computer science usually refers to log base 2.\n",
        "\n",
        "## Big-O is Upper Bound Run Time\n",
        "\n",
        "-   Big-O notation is about the *worst-case* scenario.\n",
        "\n",
        "    -   If you were conducting linear search through a phone book, even\n",
        "        if you were looking for Abe Aberdeen, it is still considered\n",
        "        $O(n)$.\n",
        "\n",
        "-   Formally, it characterizes an upper bound on the asymptotic behavior\n",
        "    of the run time.\n",
        "\n",
        "-   For example, the function $7n^3 + 30n^2 - 200n + 9$ has\n",
        "    highest-order term $7n^3$. The function’s growth rate is $n^3$\n",
        "    because the function grows no faster than $n^3$. The Big-O is\n",
        "    $O(n^3)$.\n",
        "\n",
        "## Common Big-O Run Times\n",
        "\n",
        "Here are seven Big-O run times that you’ll encounter frequently, sorted\n",
        "from fasted to slowest.\n",
        "\n",
        "![](./images/big_o_viz.jpg)\n",
        "\n",
        "-   $O(1)$, known as *constant time*. Ex: addition, division\n",
        "\n",
        "-   $O(\\text{log}n)$, known as *logarithmic time*. Ex: binary search\n",
        "\n",
        "-   $O(n)$, known as *linear time*. Ex: Linear search\n",
        "\n",
        "-   $O(n\\text{log}n)$. Ex: Tim Sort\n",
        "\n",
        "-   $O(n^2)$, known as *quadratic time*. Ex: Selection sort.\n",
        "\n",
        "-   $O(2^n)$, known as *exponential time*. Ex: Naive recursive solution\n",
        "    for nth Fibonacci number\n",
        "\n",
        "-   $O(n!)$, known as *factorial time*. Ex. Traveling salesperson\n",
        "\n",
        "## Determining Time Complexity\n",
        "\n",
        "Consider the following code. How can you determine the Big-O?\n",
        "\n",
        "[1] Example from Grokking Algorithms"
      ]
    },
    {
      "cell_type": "code",
      "execution_count": 9,
      "id": "71eaaf09",
      "metadata": {},
      "outputs": [],
      "source": [
        "def f(n):\n",
        "  for i in range(n):\n",
        "    for j in range(n):\n",
        "      print(i, j)"
      ]
    },
    {
      "cell_type": "markdown",
      "id": "17e02fc8-5ee9-4abe-bf4f-aa5f8b9c7808",
      "metadata": {},
      "source": [
        "## Determining Time Complexity\n",
        "\n",
        "-   With “raw” Python code, you can usually count the number of nested\n",
        "    `for` loops to determine the Big-O\n",
        "\n",
        "    -   A loop gives $O(n)$\n",
        "\n",
        "    -   A nested loop gives $O(n^2)$\n",
        "\n",
        "-   It’s usually not so simple in Data Science because of packages we\n",
        "    use.\n",
        "\n",
        "-   There are many factors affecting the constants in your run time\n",
        "\n",
        "    -   How complicated is each step? Is it $n$ or $2000n$?\n",
        "\n",
        "    -   How are your algorithms implemented? Is your programming\n",
        "        language fast? Are your libraries fast?\n",
        "\n",
        "-   Implementation issues will be covered later in the course.\n",
        "\n",
        "## Big-O with Two Variables\n",
        "\n",
        "Consider the following code. What is it’s Big-O?"
      ]
    },
    {
      "cell_type": "code",
      "execution_count": 10,
      "id": "0f4dc5ca",
      "metadata": {},
      "outputs": [],
      "source": [
        "def fun(n,m):\n",
        "  for i in range(n):\n",
        "    for j in range(m):\n",
        "      print(\"Hello\")"
      ]
    },
    {
      "cell_type": "markdown",
      "id": "182caf57-bfe3-4d25-a27c-13334b0715aa",
      "metadata": {},
      "source": [
        "## Big-O with Two Variables\n",
        "\n",
        "-   The time complexity here is $O(nm)$.\n",
        "\n",
        "    -   If $n = m$, then $O(n^2)$.\n",
        "\n",
        "-   All terms should be combined into one Big-O\n",
        "\n",
        "    -   $O(nm)$ is correct and $O(n)O(m)$ is incorrect.\n",
        "\n",
        "    -   $O(n + m)$ is correct and $O(n) + O(m)$ is incorrect.\n",
        "\n",
        "    -   $O(n^2 + mn + m)$ is written as $O(n^2 + nm)$. We can’t throw\n",
        "        away either term because we don’t know which term will dominate.\n",
        "\n",
        "-   Important to think about this when working with datasets.\n",
        "\n",
        "    -   They have $n$ rows and $p$ columns.\n",
        "\n",
        "    -   Can you reason how long it will take to fit a decision tree?\n",
        "\n",
        "# Best, Average, and Worst Case\n",
        "\n",
        "## Best, Average, and Worst Case\n",
        "\n",
        "-   Big-O deals with worst case.\n",
        "\n",
        "-   If we can develop a notion of an “average input,” then we can devise\n",
        "    the average case of an algorithm.\n",
        "\n",
        "-   Best case is useful to think about the constants in your algorithm.\n",
        "\n",
        "    -   $O(\\text{log}n)$ is always faster than $O(n)$ expect with very\n",
        "        small $n$.\n",
        "\n",
        "# Space Complexity\n",
        "\n",
        "## What is Space Complexity\n",
        "\n",
        "-   Aside from our algorithm taking too long to run, its also an issue\n",
        "    if you run out of memory.\n",
        "\n",
        "    -   Note, memory (RAM), is not the same as disk space.\n",
        "\n",
        "    -   The computer will load data into memory from the disk\n",
        "\n",
        "-   It will be problematic if you need to load 2 billion observations\n",
        "    all at once.\n",
        "\n",
        "-   We can also analyze space complexity with Big-O notation\n",
        "\n",
        "-   Notice that time complexity is usually about the *algorithm*, while\n",
        "    space complexity is about the *data structure*.\n",
        "\n",
        "## Examples\n",
        "\n",
        "-   Code that prints `hello {your name}` will have $O(1)$ space.\n",
        "\n",
        "-   Code that sums a list of size $n$ has $O(n)$ space.\n",
        "\n",
        "-   You have users on Instagram, and you want to store who follows who.\n",
        "    The answer depends (why?). The worst case space is $O(n^2)$\n",
        "\n",
        "# Recommended Problems and References\n",
        "\n",
        "## Recommended Problems\n",
        "\n",
        "-   Cormen: Chapter 1 exercises\n",
        "\n",
        "    -   1.2-1, 1.2-2, 1.2-3\n",
        "\n",
        "-   Bhargava: Chapter 1 exercises\n",
        "\n",
        "    -   1.3 to 1.5\n",
        "\n",
        "-   Additional (for the mathematically inclined)\n",
        "\n",
        "    -   In CS, log is usually base 2, but a strong distinction is not\n",
        "        made because *logs of different bases only differ by a constant\n",
        "        factor* and constants are dropped in Big-O. Show this is true\n",
        "\n",
        "    -   Show that exponents of different bases **do not** differ by a\n",
        "        constant factor\n",
        "\n",
        "## References\n",
        "\n",
        "-   Bhargava, A. Y. (2016). *Grokking algorithms: An illustrated guide\n",
        "    for programmers and other curious people.* Manning. Chapter 1.\n",
        "\n",
        "-   Cormen, T. H. (Ed.). (2009). *Introduction to algorithms* (3rd ed).\n",
        "    MIT Press. Chapter 1 and 3."
      ]
    }
  ],
  "metadata": {
    "kernelspec": {
      "display_name": "dsi_participant",
      "language": "python",
      "name": "python3"
    },
    "language_info": {
      "codemirror_mode": {
        "name": "ipython",
        "version": 3
      },
      "file_extension": ".py",
      "mimetype": "text/x-python",
      "name": "python",
      "nbconvert_exporter": "python",
      "pygments_lexer": "ipython3",
      "version": "3.9.19"
    }
  },
  "nbformat": 4,
  "nbformat_minor": 5
}
